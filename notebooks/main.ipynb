{
 "cells": [
  {
   "cell_type": "code",
   "execution_count": null,
   "id": "0d05a2be-6a02-4d80-9df7-468c40c47aed",
   "metadata": {},
   "outputs": [],
   "source": [
    "# Check nvcc version\n",
    "!nvcc -V\n",
    "# Check GCC version\n",
    "!gcc --version"
   ]
  },
  {
   "cell_type": "markdown",
   "id": "c08b9a0d-c150-47d6-b533-e69d3c5fcebe",
   "metadata": {},
   "source": [
    "## Check installation"
   ]
  },
  {
   "cell_type": "code",
   "execution_count": null,
   "id": "7ea9b00a-7866-4aa4-b94a-2a430acdaf3f",
   "metadata": {},
   "outputs": [],
   "source": [
    "# Check Pytorch installation\n",
    "import torch, torchvision\n",
    "print(torch.__version__, torch.cuda.is_available())\n",
    "\n",
    "# Check MMDetection installation\n",
    "import mmdet\n",
    "print(mmdet.__version__)\n",
    "\n",
    "# Check mmcv installation\n",
    "from mmcv.ops import get_compiling_cuda_version, get_compiler_version\n",
    "print(get_compiling_cuda_version())\n",
    "print(get_compiler_version())\n",
    "\n",
    "import matplotlib.pyplot as plt\n",
    "import cv2\n",
    "\n",
    "%matplotlib inline"
   ]
  },
  {
   "cell_type": "markdown",
   "id": "1e53bdd7-646d-40a4-acfa-dd697702e13e",
   "metadata": {},
   "source": [
    "## Download weights"
   ]
  },
  {
   "cell_type": "code",
   "execution_count": null,
   "id": "dbdaa4aa-71ad-45dc-af32-8dbe65b07450",
   "metadata": {},
   "outputs": [],
   "source": [
    "%bash\n",
    "\n",
    "cd ../scripts/ && sh download_weights.sh"
   ]
  },
  {
   "cell_type": "code",
   "execution_count": null,
   "id": "755869c2-c5f9-4426-a18e-894b9d6c7478",
   "metadata": {},
   "outputs": [],
   "source": [
    "from mmdet.apis import inference_detector, init_detector, show_result_pyplot\n",
    "\n",
    "# Choose to use a config and initialize the detector\n",
    "config = '/mmdetection/configs/htc/htc_x101_64x4d_fpn_dconv_c3-c5_mstrain_400_1400_16x1_20e_coco.py'\n",
    "# Setup a checkpoint file to load\n",
    "checkpoint = '/mmdetection/weights/htc.pth'\n",
    "# initialize the detector\n",
    "#model = init_detector(config, checkpoint, device='cuda:1')"
   ]
  },
  {
   "cell_type": "markdown",
   "id": "c1067d5e-29cc-49fd-ab15-3923c8f3b55e",
   "metadata": {},
   "source": [
    "## Init Detector to inference from config and weights"
   ]
  },
  {
   "cell_type": "code",
   "execution_count": 1,
   "id": "85e0f0a5-3014-44c8-a449-9e97fdd875d2",
   "metadata": {},
   "outputs": [],
   "source": [
    "main_config = 'configs/htc/htc_x101_64x4d_fpn_dconv_c3-c5_mstrain_400_1400_16x1_20e_coco.py'\n",
    "main_checkpoint = 'weights/htc.pth'"
   ]
  },
  {
   "cell_type": "code",
   "execution_count": 2,
   "id": "b5e5f846-0d1c-49cf-b38c-0c5d55c4afb5",
   "metadata": {},
   "outputs": [],
   "source": [
    "from mmcv import Config\n",
    "from mmdet.apis import set_random_seed\n",
    "\n",
    "cfg = Config.fromfile(main_config)\n",
    "\n",
    "# Modify dataset type and path\n",
    "cfg.dataset_type = 'CocoDataset'\n",
    "cfg.classes = ('pig', )\n",
    "cfg.data_root = '/mmdetection/data/datasets'\n",
    "cfg.train_pipeline.insert(\n",
    "    4,\n",
    "    dict(\n",
    "        type='CutOut',\n",
    "        n_holes=(0, 4),\n",
    "        cutout_ratio=[(0.02, 0.04), (0.04, 0.02), (0.03, 0.05), (0.02, 0.03)],\n",
    "    )\n",
    ")\n",
    "\n",
    "cfg.data.samples_per_gpu = 3\n",
    "cfg.data.workers_per_gpu = 4\n",
    "\n",
    "cfg.data.test.type = 'CocoDataset'\n",
    "cfg.data.test.data_root = cfg.data_root\n",
    "cfg.data.test.ann_file = 'annotations/test_all130.json'\n",
    "cfg.data.test.img_prefix = 'test_img/'\n",
    "cfg.data.test.classes = cfg.classes\n",
    "\n",
    "cfg.data.train.type = 'CocoDataset'\n",
    "cfg.data.train.data_root = cfg.data_root\n",
    "cfg.data.train.ann_file = 'annotations/train_all290.json'\n",
    "cfg.data.train.img_prefix = 'train_img/'\n",
    "cfg.data.train.seg_prefix = 'semantic_train/'\n",
    "cfg.data.train.classes = cfg.classes\n",
    "\n",
    "cfg.data.val.type = 'CocoDataset'\n",
    "cfg.data.val.data_root = cfg.data_root\n",
    "cfg.data.val.ann_file = 'annotations/test_topview80.json'\n",
    "cfg.data.val.img_prefix = 'test_topview_img'\n",
    "cfg.data.val.classes = cfg.classes\n",
    "\n",
    "# modify num classes of the model in box head\n",
    "for i in range(len(cfg.model.roi_head.bbox_head)):\n",
    "    cfg.model.roi_head.bbox_head[i].num_classes = 1\n",
    "    \n",
    "for i in range(len(cfg.model.roi_head.mask_head)):\n",
    "    cfg.model.roi_head.mask_head[i].num_classes = 1\n",
    "    \n",
    "cfg.model.roi_head.semantic_head.num_classes = 2\n",
    "\n",
    "# We can still use the pre-trained Mask RCNN model though we do not need to\n",
    "# use the mask branch\n",
    "cfg.load_from = main_checkpoint\n",
    "\n",
    "# Set up working dir to save files and logs.\n",
    "cfg.work_dir = './tutorial_exps'\n",
    "\n",
    "# The original learning rate (LR) is set for 8-GPU training.\n",
    "# We divide it by 8 since we only use one GPU.\n",
    "cfg.optimizer.lr = 0.002 / 8\n",
    "cfg.log_config.interval = 10\n",
    "\n",
    "# Change the evaluation metric since we use customized dataset.\n",
    "cfg.evaluation.metric = ['bbox', 'segm']\n",
    "# We can set the evaluation interval to reduce the evaluation times\n",
    "cfg.evaluation.interval = 1\n",
    "# We can set the checkpoint saving interval to reduce the storage cost\n",
    "cfg.checkpoint_config.interval = 5\n",
    "\n",
    "# Set seed thus the results are more reproducible\n",
    "cfg.seed = 0\n",
    "set_random_seed(0, deterministic=False)\n",
    "cfg.gpu_ids = [1, ]\n",
    "\n",
    "\n",
    "# We can initialize the logger for training and have a look\n",
    "# at the final config used for training\n",
    "#print(f'Config:\\n{cfg.pretty_text}')"
   ]
  },
  {
   "cell_type": "code",
   "execution_count": 3,
   "id": "9076398d-bbb2-44cb-8d81-3d9e86485dec",
   "metadata": {},
   "outputs": [
    {
     "name": "stdout",
     "output_type": "stream",
     "text": [
      "load checkpoint from local path: /mmdetection/notebooks/tutorial_exps/latest.pth\n"
     ]
    },
    {
     "name": "stderr",
     "output_type": "stream",
     "text": [
      "2021-11-19 19:42:06,757 - root - INFO - DeformConv2dPack backbone.layer2.0.conv2 is upgraded to version 2.\n",
      "2021-11-19 19:42:06,788 - root - INFO - DeformConv2dPack backbone.layer2.1.conv2 is upgraded to version 2.\n",
      "2021-11-19 19:42:06,808 - root - INFO - DeformConv2dPack backbone.layer2.2.conv2 is upgraded to version 2.\n",
      "2021-11-19 19:42:06,828 - root - INFO - DeformConv2dPack backbone.layer2.3.conv2 is upgraded to version 2.\n",
      "2021-11-19 19:42:06,857 - root - INFO - DeformConv2dPack backbone.layer3.0.conv2 is upgraded to version 2.\n",
      "2021-11-19 19:42:06,889 - root - INFO - DeformConv2dPack backbone.layer3.1.conv2 is upgraded to version 2.\n",
      "2021-11-19 19:42:06,916 - root - INFO - DeformConv2dPack backbone.layer3.2.conv2 is upgraded to version 2.\n",
      "2021-11-19 19:42:06,958 - root - INFO - DeformConv2dPack backbone.layer3.3.conv2 is upgraded to version 2.\n",
      "2021-11-19 19:42:06,986 - root - INFO - DeformConv2dPack backbone.layer3.4.conv2 is upgraded to version 2.\n",
      "2021-11-19 19:42:07,030 - root - INFO - DeformConv2dPack backbone.layer3.5.conv2 is upgraded to version 2.\n",
      "2021-11-19 19:42:07,059 - root - INFO - DeformConv2dPack backbone.layer3.6.conv2 is upgraded to version 2.\n",
      "2021-11-19 19:42:07,099 - root - INFO - DeformConv2dPack backbone.layer3.7.conv2 is upgraded to version 2.\n",
      "2021-11-19 19:42:07,125 - root - INFO - DeformConv2dPack backbone.layer3.8.conv2 is upgraded to version 2.\n",
      "2021-11-19 19:42:07,164 - root - INFO - DeformConv2dPack backbone.layer3.9.conv2 is upgraded to version 2.\n",
      "2021-11-19 19:42:07,184 - root - INFO - DeformConv2dPack backbone.layer3.10.conv2 is upgraded to version 2.\n",
      "2021-11-19 19:42:07,201 - root - INFO - DeformConv2dPack backbone.layer3.11.conv2 is upgraded to version 2.\n",
      "2021-11-19 19:42:07,224 - root - INFO - DeformConv2dPack backbone.layer3.12.conv2 is upgraded to version 2.\n",
      "2021-11-19 19:42:07,245 - root - INFO - DeformConv2dPack backbone.layer3.13.conv2 is upgraded to version 2.\n",
      "2021-11-19 19:42:07,280 - root - INFO - DeformConv2dPack backbone.layer3.14.conv2 is upgraded to version 2.\n",
      "2021-11-19 19:42:07,308 - root - INFO - DeformConv2dPack backbone.layer3.15.conv2 is upgraded to version 2.\n",
      "2021-11-19 19:42:07,330 - root - INFO - DeformConv2dPack backbone.layer3.16.conv2 is upgraded to version 2.\n",
      "2021-11-19 19:42:07,357 - root - INFO - DeformConv2dPack backbone.layer3.17.conv2 is upgraded to version 2.\n",
      "2021-11-19 19:42:07,385 - root - INFO - DeformConv2dPack backbone.layer3.18.conv2 is upgraded to version 2.\n",
      "2021-11-19 19:42:07,421 - root - INFO - DeformConv2dPack backbone.layer3.19.conv2 is upgraded to version 2.\n",
      "2021-11-19 19:42:07,459 - root - INFO - DeformConv2dPack backbone.layer3.20.conv2 is upgraded to version 2.\n",
      "2021-11-19 19:42:07,493 - root - INFO - DeformConv2dPack backbone.layer3.21.conv2 is upgraded to version 2.\n",
      "2021-11-19 19:42:07,532 - root - INFO - DeformConv2dPack backbone.layer3.22.conv2 is upgraded to version 2.\n",
      "2021-11-19 19:42:07,572 - root - INFO - DeformConv2dPack backbone.layer4.0.conv2 is upgraded to version 2.\n",
      "2021-11-19 19:42:07,620 - root - INFO - DeformConv2dPack backbone.layer4.1.conv2 is upgraded to version 2.\n",
      "2021-11-19 19:42:07,643 - root - INFO - DeformConv2dPack backbone.layer4.2.conv2 is upgraded to version 2.\n"
     ]
    }
   ],
   "source": [
    "from mmdet.apis import inference_detector, init_detector, show_result_pyplot\n",
    "from mmdet.models import build_detector\n",
    "\n",
    "\n",
    "#model = build_detector(\n",
    "#    cfg.model,\n",
    "#    train_cfg=cfg.get('train_cfg'),\n",
    "#    test_cfg=cfg.get('test_cfg'),\n",
    "#)\n",
    "#model.CLASSES = ('pig', )\n",
    "#model.cfg = cfg\n",
    "\n",
    "model = init_detector(cfg, main_checkpoint, device='cuda:1')"
   ]
  },
  {
   "cell_type": "code",
   "execution_count": null,
   "id": "32db4631-a8e0-4f6c-8eec-0161d510b91c",
   "metadata": {},
   "outputs": [],
   "source": [
    "img = '/mmdetection/data/datasets/test_frontview_img/287_B102_000210.png'\n",
    "result = inference_detector(model, img)\n",
    "\n",
    "# Let's plot the result\n",
    "show_result_pyplot(model, img, result, score_thr=0.3)"
   ]
  }
 ],
 "metadata": {
  "kernelspec": {
   "display_name": "Python 3 (ipykernel)",
   "language": "python",
   "name": "python3"
  },
  "language_info": {
   "codemirror_mode": {
    "name": "ipython",
    "version": 3
   },
   "file_extension": ".py",
   "mimetype": "text/x-python",
   "name": "python",
   "nbconvert_exporter": "python",
   "pygments_lexer": "ipython3",
   "version": "3.7.7"
  }
 },
 "nbformat": 4,
 "nbformat_minor": 5
}
